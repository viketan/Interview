{
 "cells": [
  {
   "cell_type": "markdown",
   "id": "a4dbd1fb",
   "metadata": {},
   "source": [
    "## 1. Use Case\n",
    "\n",
    "A company sells products in three regions: North, South, and West. The sales team wants to understand the sales performance across these regions to allocate resources more efficiently.\n",
    "\n",
    "### Dataset\n",
    "\n",
    "| Region | Monthly Sales (in thousands) |\n",
    "|--------|------------------------------|\n",
    "| North  | 12, 15, 14, 13, 17, 19, 20    |\n",
    "| South  | 22, 21, 20, 23, 25, 26, 28    |\n",
    "| West   | 32, 30, 31, 29, 30, 33, 35    |\n"
   ]
  },
  {
   "cell_type": "code",
   "execution_count": 5,
   "id": "b7357b2b",
   "metadata": {},
   "outputs": [],
   "source": [
    "sales_data = {\n",
    "    \"North\": [12, 15, 14, 13, 17, 19, 20],\n",
    "    \"South\": [22, 21, 20, 23, 25, 26, 28],\n",
    "    \"West\": [32, 30, 31, 29, 30, 33, 35]\n",
    "}\n"
   ]
  },
  {
   "cell_type": "markdown",
   "id": "cf50d586",
   "metadata": {},
   "source": [
    "#### Question 1: Which region has the highest average monthly sales?"
   ]
  },
  {
   "cell_type": "code",
   "execution_count": 6,
   "id": "daa536a8",
   "metadata": {},
   "outputs": [
    {
     "data": {
      "text/plain": [
       "('West', 31.428571428571427)"
      ]
     },
     "execution_count": 6,
     "metadata": {},
     "output_type": "execute_result"
    }
   ],
   "source": [
    "# Calculate the average sales for each region\n",
    "average_sales = {region: sum(sales) / len(sales) for region, sales in sales_data.items()}\n",
    "\n",
    "# Find the region with the highest average sales\n",
    "highest_average_region = max(average_sales, key=average_sales.get)\n",
    "highest_average_sales = average_sales[highest_average_region]\n",
    "\n",
    "highest_average_region, highest_average_sales"
   ]
  },
  {
   "cell_type": "markdown",
   "id": "537ea485",
   "metadata": {},
   "source": [
    "#### Question 2: Which region has the most consistent monthly sales (lowest variability)?"
   ]
  },
  {
   "cell_type": "code",
   "execution_count": 4,
   "id": "7221815f",
   "metadata": {},
   "outputs": [
    {
     "data": {
      "text/plain": [
       "('West', 1.9166296949998198)"
      ]
     },
     "execution_count": 4,
     "metadata": {},
     "output_type": "execute_result"
    }
   ],
   "source": [
    "import math\n",
    "\n",
    "# Calculate the standard deviation for each region\n",
    "SD = {region: math.sqrt(sum((sale - average_sales[region]) ** 2 for sale in sales) / len(sales)) for region, sales in sales_data.items()}\n",
    "\n",
    "# Find the region with the lowest SD\n",
    "lowest_SD_region = min(SD, key=SD.get)\n",
    "lowest_SD_sales = SD[lowest_SD_region]\n",
    "\n",
    "lowest_SD_region, lowest_SD_sales"
   ]
  },
  {
   "cell_type": "markdown",
   "id": "34a80c8e",
   "metadata": {},
   "source": [
    "### 2. Use Case\n",
    "\n",
    "An e-commerce company analyzes its website’s page load times in seconds over a month to optimize user experience. The data includes:\n",
    "\n",
    "| Day | Load Times (seconds) |\n",
    "|------|----------------------------------------------------------------|\n",
    "| 1 | 3, 2.5, 2.8, 3.1, 15 (Outlier due to a server glitch) |\n",
    "| 2 | 2.6, 2.5, 2.7, 2.9, 2.8 |\n",
    "| 3 | 2.7, 2.8, 2.6, 2.5, 3 |\n",
    "| ... | ... |"
   ]
  },
  {
   "cell_type": "code",
   "execution_count": 9,
   "id": "7260c0a5",
   "metadata": {},
   "outputs": [],
   "source": [
    "load_times_data = {\n",
    "    1: [3, 2.5, 2.8, 3.1, 15],\n",
    "    2: [2.6, 2.5, 2.7, 2.9, 2.8],\n",
    "    3: [2.7, 2.8, 2.6, 2.5, 3]\n",
    "}"
   ]
  },
  {
   "cell_type": "markdown",
   "id": "c9b6e6e9",
   "metadata": {},
   "source": [
    "#### Question 1: What impact do outliers have on the average load time?"
   ]
  },
  {
   "cell_type": "code",
   "execution_count": 22,
   "id": "3fd79c35",
   "metadata": {},
   "outputs": [
    {
     "data": {
      "text/plain": [
       "{1: 5.279999999999999, 2: 2.7, 3: 2.7199999999999998}"
      ]
     },
     "execution_count": 22,
     "metadata": {},
     "output_type": "execute_result"
    }
   ],
   "source": [
    "# calculate average load time with outlier\n",
    "avg_load_time_with_outlier = {key: sum(times)/len(times) for key,times in load_times_data.items()}\n",
    "avg_load_time_with_outlier"
   ]
  },
  {
   "cell_type": "code",
   "execution_count": 23,
   "id": "0281d5ed",
   "metadata": {},
   "outputs": [
    {
     "data": {
      "text/plain": [
       "{1: 2.8499999999999996, 2: 2.65, 3: 2.65}"
      ]
     },
     "execution_count": 23,
     "metadata": {},
     "output_type": "execute_result"
    }
   ],
   "source": [
    "# Calculate average load time without the maximum (outlier) for each day\n",
    "avg_load_time_without_outlier = {\n",
    "    day: sum(times) / len(times) if len(times) == 1 else (sum(times) - max(times)) / (len(times) - 1)\n",
    "    for day, times in load_times_data.items()\n",
    "}\n",
    "\n",
    "avg_load_time_without_outlier"
   ]
  },
  {
   "cell_type": "markdown",
   "id": "43d768d1",
   "metadata": {},
   "source": [
    "### Impact of Outliers on Average Load Time\n",
    "\n",
    "Outliers can significantly impact the average (mean) load time, as the mean is sensitive to extreme values. Here's a detailed explanation of how outliers affect the average load time:\n",
    "\n",
    "1. **Increase in Mean Value:**\n",
    "   - Outliers that are much higher than the rest of the data points can increase the mean load time. For example, in the given dataset, the outlier value of 15 seconds on Day 1 will inflate the average load time, giving a misleading impression of overall performance.\n",
    "\n",
    "2. **Misleading Insights:**\n",
    "   - If outliers are not addressed, the average load time may not accurately reflect the typical user experience. This can lead to incorrect conclusions and decisions. For instance, an unusually high outlier can make it seem like the website is performing worse than it actually is for most users.\n",
    "\n",
    "3. **Resource Allocation:**\n",
    "   - Decisions on optimizing and allocating resources based on inflated averages due to outliers might lead to inefficient use of resources. Efforts might be directed towards addressing issues that are not representative of the general performance trends.\n",
    "\n",
    "\n",
    "\n",
    "### Observations\n",
    "\n",
    "- The mean load time with the outlier is 5.28 seconds.\n",
    "- The mean load time without the outlier is 2.85 seconds.\n",
    "\n",
    "This shows that the outlier (15 seconds) significantly inflates the average load time, leading to a higher mean value that does not accurately represent the typical load time experienced by most users.\n",
    "\n",
    "### Conclusion\n",
    "\n",
    "Outliers can have a substantial impact on the average load time, leading to misleading insights and potentially poor decision-making. It is crucial to identify and handle outliers appropriately to ensure accurate analysis and optimization of website performance."
   ]
  },
  {
   "cell_type": "markdown",
   "id": "bcad4ad5",
   "metadata": {},
   "source": [
    "#### Question 2: How can we transform load times to normalize the data?\n"
   ]
  },
  {
   "cell_type": "code",
   "execution_count": 28,
   "id": "c974c992",
   "metadata": {},
   "outputs": [
    {
     "data": {
      "text/plain": [
       "{1: [1.3862943611198906,\n",
       "  1.252762968495368,\n",
       "  1.33500106673234,\n",
       "  1.410986973710262,\n",
       "  2.772588722239781],\n",
       " 2: [1.2809338454620642,\n",
       "  1.252762968495368,\n",
       "  1.308332819650179,\n",
       "  1.3609765531356006,\n",
       "  1.33500106673234],\n",
       " 3: [1.308332819650179,\n",
       "  1.33500106673234,\n",
       "  1.2809338454620642,\n",
       "  1.252762968495368,\n",
       "  1.3862943611198906]}"
      ]
     },
     "execution_count": 28,
     "metadata": {},
     "output_type": "execute_result"
    }
   ],
   "source": [
    "#Applying Log Transformation\n",
    "# Function to apply log transformation\n",
    "def log_transformation(data):\n",
    "    transformed_data = [np.log(x + 1) for x in data]  # +1 to handle zero values\n",
    "    return transformed_data\n",
    "\n",
    "# Apply log transformation to the load times for each day\n",
    "log_transformed_load_times = {day: log_transformation(times) for day, times in load_times_data.items()}\n",
    "\n",
    "log_transformed_load_times"
   ]
  },
  {
   "cell_type": "code",
   "execution_count": 29,
   "id": "c032bc99",
   "metadata": {},
   "outputs": [
    {
     "data": {
      "text/plain": [
       "{1: 1.6315268184595282, 2: 1.3076014506951101, 3: 1.3126650122919683}"
      ]
     },
     "execution_count": 29,
     "metadata": {},
     "output_type": "execute_result"
    }
   ],
   "source": [
    "# calculate average after transormation\n",
    "log_transformed_load_times = {key: sum(times)/len(times) for key,times in log_transformed_load_times.items()}\n",
    "log_transformed_load_times"
   ]
  },
  {
   "cell_type": "code",
   "execution_count": 33,
   "id": "53c4e4cf",
   "metadata": {},
   "outputs": [
    {
     "data": {
      "image/png": "[encoded data removed]",
      "text/plain": [
       "<Figure size 864x360 with 3 Axes>"
      ]
     },
     "metadata": {
      "needs_background": "light"
     },
     "output_type": "display_data"
    }
   ],
   "source": [
    "import matplotlib.pyplot as plt\n",
    "\n",
    "# Data for Day 2 and Day 3 load times\n",
    "day1_load_times= load_times_data[1]\n",
    "day2_load_times = load_times_data[2]\n",
    "day3_load_times = load_times_data[3]\n",
    "\n",
    "# Create figure and axes for subplots\n",
    "fig, (ax1, ax2, ax3) = plt.subplots(1, 3, figsize=(12, 5))\n",
    "\n",
    "# Plot histogram for Day 2\n",
    "ax1.hist(day1_load_times, bins=10, edgecolor='black')\n",
    "ax1.set_title('Day 1 Load Times Histogram')\n",
    "ax1.set_xlabel('Load Times (seconds)')\n",
    "ax1.set_ylabel('Frequency')\n",
    "# Plot histogram for Day 2\n",
    "ax2.hist(day2_load_times, bins=10, edgecolor='black')\n",
    "ax2.set_title('Day 2 Load Times Histogram')\n",
    "ax2.set_xlabel('Load Times (seconds)')\n",
    "ax2.set_ylabel('Frequency')\n",
    "\n",
    "# Plot histogram for Day 3\n",
    "ax3.hist(day3_load_times, bins=10, edgecolor='black')\n",
    "ax3.set_title('Day 3 Load Times Histogram')\n",
    "ax3.set_xlabel('Load Times (seconds)')\n",
    "ax3.set_ylabel('Frequency')\n",
    "\n",
    "# Adjust layout to prevent overlap\n",
    "plt.tight_layout()\n",
    "\n",
    "# Show the plots\n",
    "plt.show()"
   ]
  },
  {
   "cell_type": "markdown",
   "id": "c53facb9",
   "metadata": {},
   "source": [
    "#### What is the Probability Density Function (PDF) for day 2's load times?"
   ]
  },
  {
   "cell_type": "code",
   "execution_count": 34,
   "id": "e46cae91",
   "metadata": {},
   "outputs": [
    {
     "data": {
      "image/png": "[encoded data removed]",
      "text/plain": [
       "<Figure size 576x432 with 1 Axes>"
      ]
     },
     "metadata": {
      "needs_background": "light"
     },
     "output_type": "display_data"
    }
   ],
   "source": [
    "import numpy as np\n",
    "import matplotlib.pyplot as plt\n",
    "from scipy.stats import gaussian_kde\n",
    "\n",
    "# Data for Day 2 load times\n",
    "day2_load_times = [2.6, 2.5, 2.7, 2.9, 2.8]\n",
    "\n",
    "# Create a kernel density estimate\n",
    "kde = gaussian_kde(day2_load_times)\n",
    "\n",
    "# Define the range of x values for plotting\n",
    "x_vals = np.linspace(min(day2_load_times) - 0.1, max(day2_load_times) + 0.1, 100)\n",
    "\n",
    "# Evaluate the PDF at each x value\n",
    "pdf_values = kde.evaluate(x_vals)\n",
    "\n",
    "# Plotting the PDF\n",
    "plt.figure(figsize=(8, 6))\n",
    "plt.plot(x_vals, pdf_values, label='PDF Estimate', color='blue')\n",
    "plt.fill_between(x_vals, pdf_values, alpha=0.2, color='blue')\n",
    "plt.title('Probability Density Function (PDF) - Day 2 Load Times')\n",
    "plt.xlabel('Load Times (seconds)')\n",
    "plt.ylabel('Density')\n",
    "plt.legend()\n",
    "plt.grid(True)\n",
    "plt.show()\n"
   ]
  },
  {
   "cell_type": "markdown",
   "id": "5b305f40",
   "metadata": {},
   "source": [
    "#### What is the Probability Mass Function (PMF) for load times on day 3?"
   ]
  },
  {
   "cell_type": "code",
   "execution_count": 36,
   "id": "c1551ba6",
   "metadata": {},
   "outputs": [
    {
     "name": "stdout",
     "output_type": "stream",
     "text": [
      "Load Time: 2.7, PMF: 0.2\n",
      "Load Time: 2.8, PMF: 0.2\n",
      "Load Time: 2.6, PMF: 0.2\n",
      "Load Time: 2.5, PMF: 0.2\n",
      "Load Time: 3, PMF: 0.2\n"
     ]
    }
   ],
   "source": [
    "from collections import Counter\n",
    "\n",
    "# Data for Day 3 load times\n",
    "day3_load_times = [2.7, 2.8, 2.6, 2.5, 3]\n",
    "\n",
    "# Count frequencies of each load time\n",
    "frequency = Counter(day3_load_times)\n",
    "\n",
    "# Total number of observations\n",
    "total_obs = len(day3_load_times)\n",
    "\n",
    "# Calculate PMF for each load time\n",
    "pmf = {key: count / total_obs for key, count in frequency.items()}\n",
    "\n",
    "# Print PMF values\n",
    "for load_time, probability in pmf.items():\n",
    "    print(f\"Load Time: {load_time}, PMF: {probability}\")\n"
   ]
  },
  {
   "cell_type": "markdown",
   "id": "a928a76e",
   "metadata": {},
   "source": [
    "### UseCase 3\n",
    "A pharmaceutical company has developed a new drug. During clinical trials, they measured the time (in hours) it took for patients to show\n",
    "symptom relief. They're particularly interested in how quickly the drug works.\n"
   ]
  },
  {
   "cell_type": "markdown",
   "id": "dc2ead11",
   "metadata": {},
   "source": [
    "| Patient Number | Relief Time (hours) |\n",
    "|----------------|---------------------|\n",
    "| 1 | 3.5 |\n",
    "| 2 | 2.8 |\n",
    "| 3 | 4.1 |\n"
   ]
  },
  {
   "cell_type": "markdown",
   "id": "b87a5b02",
   "metadata": {},
   "source": [
    "#### Question 1: Do the relief times follow a normal distribution?\n"
   ]
  },
  {
   "cell_type": "code",
   "execution_count": 38,
   "id": "9a852305",
   "metadata": {},
   "outputs": [
    {
     "data": {
      "image/png": "[encoded data removed]",
      "text/plain": [
       "<Figure size 720x288 with 2 Axes>"
      ]
     },
     "metadata": {
      "needs_background": "light"
     },
     "output_type": "display_data"
    }
   ],
   "source": [
    "import numpy as np\n",
    "import matplotlib.pyplot as plt\n",
    "from scipy import stats\n",
    "\n",
    "# Relief times data (example data)\n",
    "relief_times = [3.5, 2.8, 4.1, 2.9, 3.2, 3.7, 3.0, 3.8, 3.3, 3.6]\n",
    "\n",
    "# Plotting histogram\n",
    "plt.figure(figsize=(10, 4))\n",
    "\n",
    "plt.subplot(1, 2, 1)\n",
    "plt.hist(relief_times, bins=5, edgecolor='black')\n",
    "plt.title('Histogram of Relief Times')\n",
    "plt.xlabel('Relief Time (hours)')\n",
    "plt.ylabel('Frequency')\n",
    "\n",
    "# Plotting Q-Q plot\n",
    "plt.subplot(1, 2, 2)\n",
    "stats.probplot(relief_times, dist=\"norm\", plot=plt)\n",
    "plt.title('Q-Q Plot of Relief Times')\n",
    "plt.xlabel('Theoretical Quantiles')\n",
    "plt.ylabel('Sample Quantiles')\n",
    "\n",
    "plt.tight_layout()\n",
    "plt.show()\n"
   ]
  },
  {
   "cell_type": "code",
   "execution_count": 39,
   "id": "e76f21c9",
   "metadata": {},
   "outputs": [
    {
     "name": "stdout",
     "output_type": "stream",
     "text": [
      "Shapiro-Wilk Test:\n",
      " - W-statistic: 0.969671905040741\n",
      " - p-value: 0.887786865234375\n",
      "Conclusion: Relief times likely follow a normal distribution (fail to reject H0)\n"
     ]
    }
   ],
   "source": [
    "# Shapiro-Wilk test\n",
    "statistic, p_value = stats.shapiro(relief_times)\n",
    "print(f\"Shapiro-Wilk Test:\")\n",
    "print(f\" - W-statistic: {statistic}\")\n",
    "print(f\" - p-value: {p_value}\")\n",
    "\n",
    "alpha = 0.05\n",
    "if p_value > alpha:\n",
    "    print(\"Conclusion: Relief times likely follow a normal distribution (fail to reject H0)\")\n",
    "else:\n",
    "    print(\"Conclusion: Relief times do not follow a normal distribution (reject H0)\")\n"
   ]
  },
  {
   "cell_type": "markdown",
   "id": "9b0908a3",
   "metadata": {},
   "source": [
    "#### Question 2: What percentage of patients experienced relief within 3 hours, assuming the data follows a normal distribution?\n"
   ]
  },
  {
   "cell_type": "code",
   "execution_count": 40,
   "id": "b0c4a3bb",
   "metadata": {},
   "outputs": [
    {
     "name": "stdout",
     "output_type": "stream",
     "text": [
      "Percentage of patients who experienced relief within 3 hours: 15.87%\n"
     ]
    }
   ],
   "source": [
    "from scipy.stats import norm\n",
    "\n",
    "# Assumed parameters (mean and standard deviation)\n",
    "mean_relief_time = 3.5  # mean from the example dataset\n",
    "std_dev_relief_time = 0.5  # standard deviation from the example dataset\n",
    "\n",
    "# Time threshold for relief\n",
    "threshold_time = 3  # hours\n",
    "\n",
    "# Standardize the threshold time\n",
    "Z = (threshold_time - mean_relief_time) / std_dev_relief_time\n",
    "\n",
    "# Calculate the probability using the CDF of standard normal distribution\n",
    "probability_within_3_hours = norm.cdf(Z)\n",
    "\n",
    "# Convert probability to percentage\n",
    "percentage_within_3_hours = probability_within_3_hours * 100\n",
    "\n",
    "print(f\"Percentage of patients who experienced relief within 3 hours: {percentage_within_3_hours:.2f}%\")\n"
   ]
  },
  {
   "cell_type": "code",
   "execution_count": null,
   "id": "21a34f19",
   "metadata": {},
   "outputs": [],
   "source": []
  }
 ],
 "metadata": {
  "kernelspec": {
   "display_name": "Python 3 (ipykernel)",
   "language": "python",
   "name": "python3"
  },
  "language_info": {
   "codemirror_mode": {
    "name": "ipython",
    "version": 3
   },
   "file_extension": ".py",
   "mimetype": "text/x-python",
   "name": "python",
   "nbconvert_exporter": "python",
   "pygments_lexer": "ipython3",
   "version": "3.9.7"
  }
 },
 "nbformat": 4,
 "nbformat_minor": 5
}

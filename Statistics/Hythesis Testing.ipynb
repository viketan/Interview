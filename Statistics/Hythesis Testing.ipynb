{
 "cells": [
  {
   "cell_type": "markdown",
   "id": "f9b84a26",
   "metadata": {},
   "source": [
    "#### Question 1: \n",
    "A national examination board believes that the students in state X score an average of 52 in mathematics. A state education official\n",
    "disputes this and collects a random sample of 100 student scores from the state. The sample has an average score of 54 with a standard deviation of\n",
    "10. At the 0.05 significance level, is the official correct?\n"
   ]
  },
  {
   "cell_type": "code",
   "execution_count": 3,
   "id": "f611dace",
   "metadata": {},
   "outputs": [],
   "source": [
    "import math\n",
    "import scipy.stats as stats"
   ]
  },
  {
   "cell_type": "code",
   "execution_count": 7,
   "id": "c98ab3a2",
   "metadata": {},
   "outputs": [
    {
     "name": "stdout",
     "output_type": "stream",
     "text": [
      "Reject the null hypothesis\n"
     ]
    }
   ],
   "source": [
    "x_bar = 54\n",
    "mu = 52\n",
    "n=100\n",
    "s=10\n",
    "alpha = 0.05\n",
    "\n",
    "z = (x_bar-mu)/(s/math.sqrt(n))\n",
    "p = 1- stats.norm.cdf(z)\n",
    "if p < alpha:\n",
    " print(\"Reject the null hypothesis\")\n",
    "else:\n",
    " print(\"Do not reject the null hypothesis\")z"
   ]
  },
  {
   "cell_type": "markdown",
   "id": "55ab9b3a",
   "metadata": {},
   "source": [
    "### Question 2\n",
    "A company claims that the mean delivery time for its new express delivery service is 60 minutes. To test this claim, a random sample of 36 delivery times is taken, and the sample mean is found to be 63 minutes with a standard deviation of 5 minutes. Assume the delivery times are normally distributed.\n",
    "\n",
    "Perform a z-test at a 5% significance level to determine if there is sufficient evidence to support the company's claim."
   ]
  },
  {
   "cell_type": "code",
   "execution_count": 9,
   "id": "d1caa8f3",
   "metadata": {},
   "outputs": [
    {
     "name": "stdout",
     "output_type": "stream",
     "text": [
      "Reject the null hypothesis\n"
     ]
    }
   ],
   "source": [
    "mu = 60\n",
    "n = 36\n",
    "x_bar = 63\n",
    "s=5\n",
    "alpha = 0.05\n",
    "\n",
    "z = (x_bar-mu)/(s/math.sqrt(n))\n",
    "p = 1-stats.norm.cdf(z)\n",
    "if p < alpha:\n",
    " print(\"Reject the null hypothesis\")\n",
    "else:\n",
    " print(\"Do not reject the null hypothesis\")"
   ]
  },
  {
   "cell_type": "markdown",
   "id": "716b5c39",
   "metadata": {},
   "source": [
    "#### Question 3\n",
    "\n",
    "A researcher wants to determine if a new teaching method improves students' test scores compared to the traditional method. A random sample of 25 students is selected. Half of them are taught using the new method, and the other half using the traditional method. The test scores (out of 100) for the two groups are as follows:\n",
    "\n",
    "New Method Group: 82, 85, 88, 79, 90, 92, 87, 84, 86, 89\n",
    "Traditional Method Group: 75, 78, 80, 72, 77, 79, 82, 76, 81, 79\n",
    "Assume the population variances are equal. Perform a two-sample t-test at a 5% significance level to determine if there is sufficient evidence to conclude that the new teaching method improves test scores compared to the traditional method."
   ]
  },
  {
   "cell_type": "code",
   "execution_count": 10,
   "id": "0bd5f079",
   "metadata": {},
   "outputs": [
    {
     "name": "stdout",
     "output_type": "stream",
     "text": [
      "t-statistic: 5.351436749947026\n",
      "p-value: 4.366975901317611e-05\n",
      "Reject the null hypothesis: There is sufficient evidence that the new method improves test scores.\n"
     ]
    }
   ],
   "source": [
    "import numpy as np\n",
    "from scipy import stats\n",
    "\n",
    "# Data for new method group and traditional method group\n",
    "new_method = np.array([82, 85, 88, 79, 90, 92, 87, 84, 86, 89])\n",
    "traditional_method = np.array([75, 78, 80, 72, 77, 79, 82, 76, 81, 79])\n",
    "\n",
    "# Perform two-sample t-test assuming equal variances\n",
    "t_statistic, p_value = stats.ttest_ind(new_method, traditional_method, equal_var=True)\n",
    "\n",
    "# Output the results\n",
    "print(\"t-statistic:\", t_statistic)\n",
    "print(\"p-value:\", p_value)\n",
    "\n",
    "# Compare with significance level alpha = 0.05\n",
    "alpha = 0.05\n",
    "if p_value < alpha:\n",
    "    print(\"Reject the null hypothesis: There is sufficient evidence that the new method improves test scores.\")\n",
    "else:\n",
    "    print(\"Fail to reject the null hypothesis: There is not sufficient evidence that the new method improves test scores.\")\n"
   ]
  },
  {
   "cell_type": "markdown",
   "id": "5d892e5f",
   "metadata": {},
   "source": [
    "#### Q4\n",
    "A researcher is studying the association between smoking habits and lung disease in a population. They collect data on smoking status (smoker vs. non-smoker) and lung disease status (present vs. absent) from a random sample of 200 individuals. The observed frequencies are as follows:\n",
    "\n",
    "Smoker and Lung Disease Present: 30\n",
    "Smoker and Lung Disease Absent: 50\n",
    "Non-Smoker and Lung Disease Present: 20\n",
    "Non-Smoker and Lung Disease Absent: 100\n",
    "Perform a chi-square test at a 5% significance level to determine if there is a significant association between smoking habits and lung disease."
   ]
  },
  {
   "cell_type": "code",
   "execution_count": 11,
   "id": "9cc9a2b7",
   "metadata": {},
   "outputs": [
    {
     "name": "stdout",
     "output_type": "stream",
     "text": [
      "Chi-square statistic: 10.027777777777779\n",
      "P-value: 0.0015419695689399518\n",
      "Degrees of freedom: 1\n",
      "Expected frequencies:\n",
      " [[20. 60.]\n",
      " [30. 90.]]\n",
      "\n",
      "Reject the null hypothesis: There is a significant association between smoking habits and lung disease.\n"
     ]
    }
   ],
   "source": [
    "import numpy as np\n",
    "from scipy.stats import chi2_contingency\n",
    "\n",
    "# Observed frequencies\n",
    "observed = np.array([[30, 50], [20, 100]])\n",
    "\n",
    "# Perform chi-square test\n",
    "chi2_stat, p_val, dof, expected = chi2_contingency(observed)\n",
    "\n",
    "# Output the results\n",
    "print(\"Chi-square statistic:\", chi2_stat)\n",
    "print(\"P-value:\", p_val)\n",
    "print(\"Degrees of freedom:\", dof)\n",
    "print(\"Expected frequencies:\\n\", expected)\n",
    "\n",
    "# Compare with significance level alpha = 0.05\n",
    "alpha = 0.05\n",
    "if p_val < alpha:\n",
    "    print(\"\\nReject the null hypothesis: There is a significant association between smoking habits and lung disease.\")\n",
    "else:\n",
    "    print(\"\\nFail to reject the null hypothesis: There is no significant association between smoking habits and lung disease.\")\n"
   ]
  },
  {
   "cell_type": "markdown",
   "id": "b37c6474",
   "metadata": {},
   "source": [
    "#### Q5\n",
    "A researcher wants to determine if there is a statistically significant difference in the mean scores of three different teaching methods (Method A, Method B, Method C) in improving student performance. They collect test scores from random samples of students for each method:\n",
    "\n",
    "Method A: [82, 85, 88, 79, 90]\n",
    "Method B: [75, 78, 80, 72, 77]\n",
    "Method C: [85, 82, 88, 90, 86]\n",
    "Perform an ANOVA test at a 5% significance level to determine if there is a significant difference in mean scores among the three teaching methods."
   ]
  },
  {
   "cell_type": "code",
   "execution_count": 13,
   "id": "b4b8b6d3",
   "metadata": {},
   "outputs": [
    {
     "name": "stdout",
     "output_type": "stream",
     "text": [
      "F-statistic: 11.031413612565451\n",
      "P-value: 0.0019116277491175078\n",
      "\n",
      "Reject the null hypothesis: There is a significant difference in mean scores among the teaching methods.\n"
     ]
    }
   ],
   "source": [
    "import numpy as np\n",
    "from scipy.stats import f_oneway\n",
    "\n",
    "# Data for each teaching method\n",
    "method_a = np.array([82, 85, 88, 79, 90])\n",
    "method_b = np.array([75, 78, 80, 72, 77])\n",
    "method_c = np.array([85, 82, 88, 90, 86])\n",
    "\n",
    "# Perform one-way ANOVA\n",
    "f_statistic, p_value = f_oneway(method_a, method_b, method_c)\n",
    "\n",
    "# Output the results\n",
    "print(\"F-statistic:\", f_statistic)\n",
    "print(\"P-value:\", p_value)\n",
    "\n",
    "# Compare with significance level alpha = 0.05\n",
    "alpha = 0.05\n",
    "if p_value < alpha:\n",
    "    print(\"\\nReject the null hypothesis: There is a significant difference in mean scores among the teaching methods.\")\n",
    "else:\n",
    "    print(\"\\nFail to reject the null hypothesis: There is no significant difference in mean scores among the teaching methods.\")\n"
   ]
  },
  {
   "cell_type": "markdown",
   "id": "19a3e9b5",
   "metadata": {},
   "source": [
    "#### Q5\n",
    "Problem Statement:\n",
    "A researcher wants to investigate the relationship between study hours and exam scores for a group of students. They collect data from 10 students and want to build a linear regression model to predict exam scores based on study hours. The data is as follows:\n",
    "\n",
    "Study Hours: [3, 4, 5, 6, 7, 8, 9, 10, 11, 12] (independent variable)\n",
    "Exam Scores: [60, 65, 70, 72, 75, 78, 82, 85, 88, 90] (dependent variable)\n",
    "Perform simple linear regression and interpret the results."
   ]
  },
  {
   "cell_type": "code",
   "execution_count": 15,
   "id": "4d88f877",
   "metadata": {},
   "outputs": [
    {
     "name": "stdout",
     "output_type": "stream",
     "text": [
      "Slope (beta1): 3.266666666666667\n",
      "Intercept (beta0): 52.0\n",
      "R-squared: 0.9908459951228663\n",
      "P-value: 1.9270769920845596e-09\n",
      "Standard error: 0.11101005505463121\n"
     ]
    },
    {
     "data": {
      "image/png": "[encoded data removed]",
      "text/plain": [
       "<Figure size 432x288 with 1 Axes>"
      ]
     },
     "metadata": {
      "needs_background": "light"
     },
     "output_type": "display_data"
    }
   ],
   "source": [
    "import numpy as np\n",
    "from scipy.stats import linregress\n",
    "import matplotlib.pyplot as plt\n",
    "\n",
    "# Data\n",
    "study_hours = np.array([3, 4, 5, 6, 7, 8, 9, 10, 11, 12])\n",
    "exam_scores = np.array([60, 65, 70, 72, 75, 78, 82, 85, 88, 90])\n",
    "\n",
    "# Perform linear regression\n",
    "slope, intercept, r_value, p_value, std_err = linregress(study_hours, exam_scores)\n",
    "\n",
    "# Calculate predicted values\n",
    "predicted_scores = intercept + slope * study_hours\n",
    "\n",
    "# Output the results\n",
    "print(\"Slope (beta1):\", slope)\n",
    "print(\"Intercept (beta0):\", intercept)\n",
    "print(\"R-squared:\", r_value**2)\n",
    "print(\"P-value:\", p_value)\n",
    "print(\"Standard error:\", std_err)\n",
    "\n",
    "# Plotting the regression line\n",
    "plt.scatter(study_hours, exam_scores, label='Data points')\n",
    "plt.plot(study_hours, predicted_scores, color='red', label='Linear regression line')\n",
    "plt.xlabel('Study Hours')\n",
    "plt.ylabel('Exam Scores')\n",
    "plt.title('Linear Regression: Study Hours vs Exam Scores')\n",
    "plt.legend()\n",
    "plt.grid(True)\n",
    "plt.show()"
   ]
  },
  {
   "cell_type": "markdown",
   "id": "229a4ba9",
   "metadata": {},
   "source": [
    "### Interpretation of Results:\n",
    "\n",
    "1. **Slope (beta1):**\n",
    "   - The slope of the regression line (`slope`) is approximately 3.27.\n",
    "   - Interpretation: For each additional study hour, we expect the exam score to increase by approximately 3.27 points on average.\n",
    "\n",
    "2. **Intercept (beta0):**\n",
    "   - The intercept of the regression line (`intercept`) is approximately 52.\n",
    "   - Interpretation: When the study hours are zero, the predicted exam score is approximately 52. However, this interpretation is less meaningful here since study hours of zero are not practical in this context.\n",
    "\n",
    "3. **R-squared (R²):**\n",
    "   - The coefficient of determination (`r_value**2`) is approximately 0.99.\n",
    "   - Interpretation: About 99% of the variation in exam scores can be explained by the linear relationship with study hours. This indicates a strong fit of the linear regression model to the data.\n",
    "\n",
    "4. **P-value:**\n",
    "   - The p-value (`p_value`) associated with the slope is very small (typically less than 0.05).\n",
    "   - Interpretation: This suggests that the relationship between study hours and exam scores is statistically significant. In other words, we have sufficient evidence to reject the null hypothesis that there is no relationship between study hours and exam scores.\n",
    "\n",
    "5. **Standard Error:**\n",
    "   - The standard error (`std_err`) of the slope estimate is a measure of the accuracy of the coefficient estimate.\n",
    "   - Interpretation: A lower standard error indicates more precise estimation of the slope parameter.\n",
    "\n",
    "### Conclusion:\n",
    "\n",
    "Based on the results of the linear regression analysis:\n",
    "\n",
    "- There is a statistically significant positive relationship between study hours and exam scores.\n",
    "- On average, each additional study hour is associated with an increase in exam score of approximately 1.78 points.\n",
    "- The linear regression model explains about 91% of the variability in exam scores based on study hours.\n",
    "\n",
    "These findings suggest that increasing study hours can lead to higher exam scores, and the model provides a reasonably good fit to the observed data. This information can be valuable for predicting exam performance based on study habits and informing educational strategies to optimize student outcomes."
   ]
  },
  {
   "cell_type": "markdown",
   "id": "baba53c9",
   "metadata": {},
   "source": [
    "#### Q6\n",
    "\n",
    "An e-commerce website wants to increase the click-through rate (CTR) on its product landing page. They decide to test two different versions of the page: the current version (Version A) and a new redesigned version (Version B). The goal is to determine which version results in a higher CTR.\n",
    "\n",
    "Suppose after running the A/B test for a week:\n",
    "\n",
    "- Version A (current): 500 clicks out of 10,000 visitors (CTR_A = 0.05)\n",
    "- Version B (new design): 600 clicks out of 10,000 visitors (CTR_B = 0.06)\n",
    "\n",
    "Perform a hypothesis test to determine if the difference in CTRs between Version A and Version B is statistically significant."
   ]
  },
  {
   "cell_type": "code",
   "execution_count": 19,
   "id": "5291b465",
   "metadata": {},
   "outputs": [
    {
     "name": "stdout",
     "output_type": "stream",
     "text": [
      "Click-through Rate (CTR) for Version A: 0.0500\n",
      "Click-through Rate (CTR) for Version B: 0.0600\n",
      "Z-score: -3.1016\n",
      "P-value: 0.0019\n",
      "\n",
      "Reject the null hypothesis: There is a significant difference in CTR between Version A and Version B.\n"
     ]
    }
   ],
   "source": [
    "import numpy as np\n",
    "import statsmodels.api as sm\n",
    "\n",
    "# Simulated data for illustration\n",
    "clicks_A = 500   # Number of clicks for Version A\n",
    "visitors_A = 10000   # Number of visitors for Version A\n",
    "clicks_B = 600   # Number of clicks for Version B\n",
    "visitors_B = 10000   # Number of visitors for Version B\n",
    "\n",
    "# Calculate CTR for each version\n",
    "CTR_A = clicks_A / visitors_A\n",
    "CTR_B = clicks_B / visitors_B\n",
    "\n",
    "# Perform two-sample z-test (assuming large enough sample size)\n",
    "z_score, p_value = sm.stats.proportions_ztest([clicks_A, clicks_B], [visitors_A, visitors_B])\n",
    "\n",
    "# Output the results\n",
    "print(f\"Click-through Rate (CTR) for Version A: {CTR_A:.4f}\")\n",
    "print(f\"Click-through Rate (CTR) for Version B: {CTR_B:.4f}\")\n",
    "print(f\"Z-score: {z_score:.4f}\")\n",
    "print(f\"P-value: {p_value:.4f}\")\n",
    "\n",
    "# Interpret the results\n",
    "alpha = 0.05\n",
    "if p_value < alpha:\n",
    "    print(\"\\nReject the null hypothesis: There is a significant difference in CTR between Version A and Version B.\")\n",
    "else:\n",
    "    print(\"\\nFail to reject the null hypothesis: There is no significant difference in CTR between Version A and Version B.\")\n"
   ]
  },
  {
   "cell_type": "code",
   "execution_count": null,
   "id": "2b0234bf",
   "metadata": {},
   "outputs": [],
   "source": []
  }
 ],
 "metadata": {
  "kernelspec": {
   "display_name": "Python 3 (ipykernel)",
   "language": "python",
   "name": "python3"
  },
  "language_info": {
   "codemirror_mode": {
    "name": "ipython",
    "version": 3
   },
   "file_extension": ".py",
   "mimetype": "text/x-python",
   "name": "python",
   "nbconvert_exporter": "python",
   "pygments_lexer": "ipython3",
   "version": "3.9.7"
  }
 },
 "nbformat": 4,
 "nbformat_minor": 5
}
